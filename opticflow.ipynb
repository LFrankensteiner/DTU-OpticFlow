{
 "cells": [
  {
   "cell_type": "code",
   "execution_count": 1,
   "metadata": {},
   "outputs": [],
   "source": [
    "import os\n",
    "import opticflowfuncs as op\n",
    "from skimage import io\n",
    "import matplotlib.pyplot as plt\n",
    "import numpy as np\n"
   ]
  },
  {
   "cell_type": "markdown",
   "metadata": {},
   "source": [
    "# Toy Problem"
   ]
  },
  {
   "cell_type": "code",
   "execution_count": 2,
   "metadata": {},
   "outputs": [],
   "source": [
    "# Loads images from folder and creates \"video\" matrix.\n",
    "folder = \"toyProblem_F22/\"\n",
    "toy = op.read_img_folder(folder, gray = True)\n",
    "op.play_vid(toy)"
   ]
  },
  {
   "cell_type": "markdown",
   "metadata": {},
   "source": [
    "Creates instance of the \"OpticFlowVid\" class from opticflowfuncs.py."
   ]
  },
  {
   "cell_type": "code",
   "execution_count": 3,
   "metadata": {},
   "outputs": [],
   "source": [
    "sigma = 1.2\n",
    "toy_flow = op.OpticFlowVid(toy, sigma, int(sigma*5))\n",
    "# Plays video of grid.\n",
    "# Upper left: V\n",
    "# Upper right: dV/dx\n",
    "# Lower left: dV/dy\n",
    "# Lower right: dV/dz\n",
    "op.play_vid(toy_flow.vid_grid)"
   ]
  },
  {
   "cell_type": "markdown",
   "metadata": {},
   "source": [
    "Computes optic flow using a (N * 2 + 1)x(N * 2 + 1) neighbourhood (11x11).xstride and ystride is 6."
   ]
  },
  {
   "cell_type": "code",
   "execution_count": 4,
   "metadata": {},
   "outputs": [],
   "source": [
    "N = 5\n",
    "flow_grid = toy_flow.optic_flow_grid(N, 6, 6)"
   ]
  },
  {
   "cell_type": "code",
   "execution_count": 5,
   "metadata": {},
   "outputs": [
    {
     "name": "stdout",
     "output_type": "stream",
     "text": [
      "Using matplotlib backend: <object object at 0x0000029FD70485E0>\n"
     ]
    }
   ],
   "source": [
    "# Plays video. Only displays arrows if the length of the vector is longer than 10.\n",
    "%matplotlib\n",
    "toy_flow.optic_flow_from_grid(flow_grid, 10)"
   ]
  },
  {
   "cell_type": "markdown",
   "metadata": {},
   "source": [
    "# Other videos"
   ]
  },
  {
   "cell_type": "code",
   "execution_count": 6,
   "metadata": {},
   "outputs": [],
   "source": [
    "# Loads video - only first 40 frames \n",
    "path = \"426764308_7182595771800582_5125867647889472840_n.mp4\"\n",
    "video1 = op.read_video_cv(path, n_frames = 40)[100:1000]\n",
    "op.play_vid(video1)"
   ]
  },
  {
   "cell_type": "code",
   "execution_count": 7,
   "metadata": {},
   "outputs": [],
   "source": [
    "sigma = 0.8\n",
    "flow1 = op.OpticFlowVid(video1, sigma, int(sigma*5))\n",
    "flow_grid1 = flow1.optic_flow_grid(10, 30, 30)"
   ]
  },
  {
   "cell_type": "code",
   "execution_count": 8,
   "metadata": {},
   "outputs": [
    {
     "name": "stdout",
     "output_type": "stream",
     "text": [
      "Using matplotlib backend: TkAgg\n"
     ]
    }
   ],
   "source": [
    "%matplotlib\n",
    "flow1.optic_flow_from_grid(flow_grid1, 20)"
   ]
  },
  {
   "cell_type": "code",
   "execution_count": 9,
   "metadata": {},
   "outputs": [],
   "source": [
    "# Loads video - only first 20 frames \n",
    "path = \"426764314_7724175917614734_6045128301879455371_n.mp4\"\n",
    "video2 = op.read_video_cv(path, n_frames = 20)[:800]\n",
    "op.play_vid(video2)"
   ]
  },
  {
   "cell_type": "code",
   "execution_count": 10,
   "metadata": {},
   "outputs": [],
   "source": [
    "sigma = 0.8\n",
    "flow2 = op.OpticFlowVid(video2, sigma, int(sigma*5))\n",
    "flow_grid2 = flow2.optic_flow_grid(20, 30, 30)"
   ]
  },
  {
   "cell_type": "code",
   "execution_count": 11,
   "metadata": {},
   "outputs": [],
   "source": [
    "flow2.optic_flow_from_grid(flow_grid2, 20)"
   ]
  }
 ],
 "metadata": {
  "kernelspec": {
   "display_name": "Python 3",
   "language": "python",
   "name": "python3"
  },
  "language_info": {
   "codemirror_mode": {
    "name": "ipython",
    "version": 3
   },
   "file_extension": ".py",
   "mimetype": "text/x-python",
   "name": "python",
   "nbconvert_exporter": "python",
   "pygments_lexer": "ipython3",
   "version": "3.11.5"
  }
 },
 "nbformat": 4,
 "nbformat_minor": 2
}
